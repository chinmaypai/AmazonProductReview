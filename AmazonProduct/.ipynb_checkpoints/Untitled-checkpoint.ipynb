{
 "cells": [
  {
   "cell_type": "code",
   "execution_count": 2,
   "metadata": {},
   "outputs": [],
   "source": [
    "from lxml import html\n",
    "from requests import get\n",
    "import urllib3\n",
    "from re import sub"
   ]
  },
  {
   "cell_type": "code",
   "execution_count": 3,
   "metadata": {},
   "outputs": [],
   "source": [
    "asin = 'B07CXMQ6X6'"
   ]
  },
  {
   "cell_type": "code",
   "execution_count": 4,
   "metadata": {},
   "outputs": [],
   "source": [
    "amazon_url = 'https://www.amazon.com/product-reviews/' + asin + '/ref=cm_cr-arp_d_paging_btm_next_1?pageNumber=1'"
   ]
  },
  {
   "cell_type": "code",
   "execution_count": 5,
   "metadata": {},
   "outputs": [],
   "source": [
    "urllib3.disable_warnings()\n",
    "headers = {\n",
    "    'User-Agent': 'Mozilla/5.0 (Windows NT 10.0; Win64; x64) AppleWebKit/537.36 (KHTML, like Gecko) Chrome/73.0.3683.103 Safari/537.36'\n",
    "}\n",
    "response = get(amazon_url, headers=headers, verify=False, timeout=30)"
   ]
  },
  {
   "cell_type": "code",
   "execution_count": 10,
   "metadata": {},
   "outputs": [],
   "source": [
    "cleaned_response = response.text.replace('\\x00','')\n",
    "parser_to_html = html.fromstring(cleaned_response)"
   ]
  },
  {
   "cell_type": "code",
   "execution_count": 55,
   "metadata": {},
   "outputs": [],
   "source": [
    "number_review = ''.join(parser_to_html.xpath('//*[@id=\"cm_cr-product_info\"]/div/div[1]/div[2]/div/div/div[2]/div/span//text()'))"
   ]
  },
  {
   "cell_type": "code",
   "execution_count": 26,
   "metadata": {},
   "outputs": [],
   "source": [
    "total_ratings_line  = parser_to_html.xpath('//*[@id=\"cm_cr-product_info\"]/div')"
   ]
  },
  {
   "cell_type": "code",
   "execution_count": 44,
   "metadata": {},
   "outputs": [
    {
     "data": {
      "text/plain": [
       "'3.5 out of 5 starsVerified PurchaseVerified PurchaseVerified PurchaseVerified PurchaseVerified PurchaseVerified PurchaseVerified PurchaseVerified PurchaseVerified PurchaseVerified Purchase'"
      ]
     },
     "execution_count": 44,
     "metadata": {},
     "output_type": "execute_result"
    }
   ],
   "source": [
    "''.join(total_ratings_line[0].xpath('//div[1]/div[3]/span/a/span/text()'))"
   ]
  },
  {
   "cell_type": "code",
   "execution_count": 85,
   "metadata": {},
   "outputs": [],
   "source": [
    "total_ratings  = ''.join(parser_to_html.xpath('//*[@id=\"cm_cr-product_info\"]/div/div[1]/div[3]/span/a/span/text()')).split()[0]"
   ]
  },
  {
   "cell_type": "code",
   "execution_count": 86,
   "metadata": {},
   "outputs": [
    {
     "data": {
      "text/plain": [
       "'3.5'"
      ]
     },
     "execution_count": 86,
     "metadata": {},
     "output_type": "execute_result"
    }
   ],
   "source": [
    "total_ratings"
   ]
  },
  {
   "cell_type": "code",
   "execution_count": 87,
   "metadata": {},
   "outputs": [],
   "source": [
    "page_number = 2"
   ]
  },
  {
   "cell_type": "code",
   "execution_count": 88,
   "metadata": {},
   "outputs": [],
   "source": [
    "amazon_url = 'https://www.amazon.com/product-reviews/'+ asin + '/ref=cm_cr_arp_d-paging_btm_next_' + str(page_number) + '?pageNumber=' + str(page_number)\n",
    "urllib3.disable_warnings()\n",
    "headers = {\n",
    "    'User-Agent': 'Mozilla/5.0 (Windows NT 10.0; Win64; x64) AppleWebKit/537.36 (KHTML, like Gecko) Chrome/73.0.3683.103 Safari/537.36'\n",
    "}\n",
    "response = get(amazon_url, headers=headers, verify=False, timeout=30)\n",
    "cleaned_response = response.text.replace('\\x00','')\n",
    "parser_to_html = html.fromstring(cleaned_response)"
   ]
  },
  {
   "cell_type": "code",
   "execution_count": null,
   "metadata": {},
   "outputs": [],
   "source": [
    "//*[@id=\"cm_cr-review_list\"]\n",
    "document.querySelector(\"#cm_cr-review_list\")\n"
   ]
  },
  {
   "cell_type": "code",
   "execution_count": null,
   "metadata": {},
   "outputs": [],
   "source": []
  },
  {
   "cell_type": "code",
   "execution_count": null,
   "metadata": {},
   "outputs": [],
   "source": []
  },
  {
   "cell_type": "code",
   "execution_count": null,
   "metadata": {},
   "outputs": [],
   "source": []
  },
  {
   "cell_type": "code",
   "execution_count": null,
   "metadata": {},
   "outputs": [],
   "source": []
  },
  {
   "cell_type": "raw",
   "metadata": {},
   "source": [
    "#cm_cr-product_info > div > div.a-text-left.a-fixed-left-grid-col.reviewNumericalSummary.celwidget.a-col-left > div.a-row.averageStarRatingNumerical > span > a > span\n",
    "//*[@id=\"cm_cr-product_info\"]/div/div[1]/div[3]/span/a/span"
   ]
  },
  {
   "cell_type": "code",
   "execution_count": 46,
   "metadata": {},
   "outputs": [],
   "source": [
    "import re"
   ]
  },
  {
   "cell_type": "code",
   "execution_count": 53,
   "metadata": {},
   "outputs": [
    {
     "data": {
      "text/plain": [
       "'B07CZ35NPV'"
      ]
     },
     "execution_count": 53,
     "metadata": {},
     "output_type": "execute_result"
    }
   ],
   "source": [
    "txt = 'https://www.amazon.com/Daily-Ritual-Womens-Denim-Jegging/dp/B07CZ35NPV/ref=lp_19151634011_1_4?s=apparel&ie=UTF8&qid=1557417259&sr=1-4&nodeID=19151634011&psd=1'\n",
    "txt.split('/')[txt.split('/').index('dp')+1]"
   ]
  },
  {
   "cell_type": "code",
   "execution_count": 54,
   "metadata": {},
   "outputs": [
    {
     "data": {
      "text/plain": [
       "['https:',\n",
       " '',\n",
       " 'www.amazon.com',\n",
       " 'Daily-Ritual-Womens-Denim-Jegging',\n",
       " 'dp',\n",
       " 'B07CZ35NPV',\n",
       " 'ref=lp_19151634011_1_4?s=apparel&ie=UTF8&qid=1557417259&sr=1-4&nodeID=19151634011&psd=1']"
      ]
     },
     "execution_count": 54,
     "metadata": {},
     "output_type": "execute_result"
    }
   ],
   "source": [
    "txt.split('/')"
   ]
  },
  {
   "cell_type": "code",
   "execution_count": null,
   "metadata": {},
   "outputs": [],
   "source": []
  }
 ],
 "metadata": {
  "kernelspec": {
   "display_name": "Python 3",
   "language": "python",
   "name": "python3"
  },
  "language_info": {
   "codemirror_mode": {
    "name": "ipython",
    "version": 3
   },
   "file_extension": ".py",
   "mimetype": "text/x-python",
   "name": "python",
   "nbconvert_exporter": "python",
   "pygments_lexer": "ipython3",
   "version": "3.7.3"
  }
 },
 "nbformat": 4,
 "nbformat_minor": 2
}
